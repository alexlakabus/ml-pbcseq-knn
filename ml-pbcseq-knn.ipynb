{
 "cells": [
  {
   "cell_type": "markdown",
   "id": "00d8b147",
   "metadata": {},
   "source": [
    "#KNN Classifier on the PBCSeq Dataset\n",
    "\n",
    "## Intro\n",
    "In this project, I apply the **K-Nearest Neighours (KNN)** classifer on the **PBCSeq dataset** from OpenML\n",
    "\n",
    "Reasons I chose this dataset:\n",
    "-It contains a lot of **missing values**, which makes preprocessing more challenging and realistic\n",
    "-Mix of **numerical and categorical features**, which requires data cleaning and encoding\n",
    "-Different from toy datasets (such as Iris or Wine), this data set being closer to real-world data\n",
    "\n",
    "The goal of this project is to handle missing values properly, encode categorical values, and than build a pipeline with **StandardScaler + KNN**, using **GridSearchCV** for hyperparameter tuning"
   ]
  },
  {
   "cell_type": "code",
   "execution_count": 33,
   "id": "dfdbca81",
   "metadata": {},
   "outputs": [],
   "source": [
    "from sklearn.datasets import fetch_openml\n",
    "from sklearn.preprocessing import StandardScaler\n",
    "from sklearn.model_selection import GridSearchCV, StratifiedShuffleSplit\n",
    "from sklearn.neighbors import KNeighborsClassifier\n",
    "from sklearn.pipeline import Pipeline\n",
    "import pandas as pd"
   ]
  },
  {
   "cell_type": "markdown",
   "id": "0ed4809f",
   "metadata": {},
   "source": [
    "## Load Dataset\n",
    "\n",
    "The dataset is fetched directly from [OpenML](https://www.openml.org/d/802)"
   ]
  },
  {
   "cell_type": "code",
   "execution_count": 58,
   "id": "28b40984",
   "metadata": {},
   "outputs": [
    {
     "name": "stderr",
     "output_type": "stream",
     "text": [
      "c:\\Users\\Lex\\AppData\\Local\\Programs\\Python\\Python313\\Lib\\site-packages\\sklearn\\datasets\\_openml.py:328: UserWarning: Multiple active versions of the dataset matching the name pbcseq exist. Versions may be fundamentally different, returning version 1. Available versions:\n",
      "- version 1, status: active\n",
      "  url: https://www.openml.org/search?type=data&id=516\n",
      "- version 2, status: active\n",
      "  url: https://www.openml.org/search?type=data&id=802\n",
      "\n",
      "  warn(warning_msg)\n"
     ]
    },
    {
     "data": {
      "text/plain": [
       "(['case_number',\n",
       "  'number_of_days',\n",
       "  'drug',\n",
       "  'age',\n",
       "  'sex',\n",
       "  'day',\n",
       "  'presence_of_asictes',\n",
       "  'presence_of_hepatomegaly',\n",
       "  'presence_of_spiders',\n",
       "  'presence_of_edema',\n",
       "  'serum_bilirubin',\n",
       "  'serum_cholesterol',\n",
       "  'albumin',\n",
       "  'alkaline_phosphatase',\n",
       "  'SGOT',\n",
       "  'platelets',\n",
       "  'prothrombin_time',\n",
       "  'histologic_stage_of_disease'],\n",
       "    case_number  number_of_days  ... prothrombin_time  histologic_stage_of_disease\n",
       " 0            1             400  ...             12.2                            4\n",
       " 1            1             400  ...             11.2                            4\n",
       " 2            2            5169  ...             10.6                            3\n",
       " \n",
       " [3 rows x 18 columns])"
      ]
     },
     "execution_count": 58,
     "metadata": {},
     "output_type": "execute_result"
    }
   ],
   "source": [
    "data = fetch_openml('pbcseq', as_frame=True)\n",
    "\n",
    "X = data.data\n",
    "y = data.target\n",
    "\n",
    "#Display first 3 rows & each column \n",
    "list(X.columns), X.head(3)"
   ]
  },
  {
   "cell_type": "markdown",
   "id": "d73060af",
   "metadata": {},
   "source": [
    "## First step of preprocessing the data\n",
    "\n",
    "After fetching the data I am checking the number of missing values and the types of features"
   ]
  },
  {
   "cell_type": "code",
   "execution_count": 35,
   "id": "b03af883",
   "metadata": {},
   "outputs": [
    {
     "data": {
      "text/plain": [
       "array([190., 183., 221., 188., 161., 122., 135., 100., 103., 113., 151.,\n",
       "       160., 107., 109., 240., 251., 220., 338., 200., 101., 136., 114.,\n",
       "        99.,  90.,  82.,  nan, 297., 296., 264., 204., 192., 164., 173.,\n",
       "       121., 373., 362., 369., 388., 322., 229., 232., 238., 269., 252.,\n",
       "       250., 331., 195., 302., 258., 285., 265., 244., 187., 155., 108.,\n",
       "        85.,  77.,  92., 132.,  71.,  98., 245., 246., 217., 247., 233.,\n",
       "       197., 222., 218., 241., 207., 176., 156., 137., 123.,  96., 133.,\n",
       "       295., 235., 268., 272., 181., 184., 196., 198., 280., 253., 230.,\n",
       "       289., 317., 209., 210., 243., 219., 231., 224., 216., 283., 215.,\n",
       "       205., 191., 199., 165., 182., 178., 162., 437., 506., 336., 328.,\n",
       "       294., 128., 119.,  95., 214.,  70., 286., 323., 341., 313., 311.,\n",
       "       242., 324., 150., 208., 170., 110., 148., 421., 443., 360.,  80.,\n",
       "       144., 143., 390., 335., 290., 163., 124., 116., 260., 316., 327.,\n",
       "       282., 129., 120., 223., 225., 212., 159., 166., 180., 254., 259.,\n",
       "       149., 177., 147., 273., 279., 206., 193., 431., 435., 422., 473.,\n",
       "       234., 257., 213.,  40., 102., 306., 321., 169., 563., 475., 675.,\n",
       "       713., 991., 490., 549., 556., 358., 168.,  97., 171., 226., 344.,\n",
       "       305., 249., 357., 186., 301., 237., 261., 152., 203., 134., 145.,\n",
       "       167., 105.,  83.,  72., 347., 127., 141., 131., 474., 315., 352.,\n",
       "       236., 518.,  65.,  84.,  79., 356., 307., 314., 298., 300., 211.,\n",
       "       154., 104.,  63.,  58.,  59.,  76., 288., 275., 248., 371., 329.,\n",
       "       112., 130.,  81., 365., 392., 383., 638., 395., 227., 179., 194.,\n",
       "       293., 434., 402., 270., 332., 287., 281., 326., 339., 262., 228.,\n",
       "       274., 157., 126., 158., 140., 430., 384., 411., 361., 399.,  68.,\n",
       "        49.,  44.,  42.,  67.,  87.,  88., 345., 239., 153., 138., 303.,\n",
       "       299., 142., 115., 410., 502., 380., 381., 117., 118., 263., 310.,\n",
       "       278., 185., 201., 125., 426.,  61.,  56.,  57.,  53.,  50., 378.,\n",
       "       385., 139., 412., 350., 318.,  66.,  75.,  64., 377.,  89., 447.,\n",
       "        41., 442., 404., 407., 337., 334., 401., 256., 276., 312., 387.,\n",
       "       420., 291., 172., 409., 255., 266., 349., 348., 462., 359.,  91.,\n",
       "       271., 111., 467., 391., 472., 396., 146., 106., 267., 202., 438.,\n",
       "       353., 354., 364., 453., 308., 418., 460.,  69., 427., 189., 445.,\n",
       "       340., 370., 367., 408., 400., 320., 342., 304., 366., 277., 355.,\n",
       "       468., 330., 292., 319., 487., 429., 428., 441., 590., 539., 497.,\n",
       "       403., 419., 397., 325., 309., 284., 174., 444., 493., 415., 343.,\n",
       "        94., 175., 676., 464., 495., 530., 449., 457., 471., 382.,  73.,\n",
       "       375., 414., 514., 374., 423., 433., 439., 394.,  78.,  74.,  60.,\n",
       "       583., 554., 372., 609., 481., 333.,  62.,  46.])"
      ]
     },
     "execution_count": 35,
     "metadata": {},
     "output_type": "execute_result"
    }
   ],
   "source": [
    "#Checking where the missing values are\n",
    "X.isna().sum()\n",
    "\n",
    "#Checking what the value types are in each column\n",
    "X['presence_of_asictes'].unique()\n",
    "X['presence_of_hepatomegaly'].unique()\n",
    "X['presence_of_spiders'].unique()\n",
    "X['serum_cholesterol'].unique() \n",
    "X['alkaline_phosphatase'].unique()\n",
    "X['platelets'].unique()\n",
    "\n",
    "#The first 3 indicate presence, so i have values of yes/no or 1/0, while the last 3 have continous values"
   ]
  },
  {
   "cell_type": "markdown",
   "id": "434dbc62",
   "metadata": {},
   "source": [
    "## Second step of Preprocessing\n",
    "\n",
    "After finding out the types of data and what columns have missing values I proceed to fill in the missing values"
   ]
  },
  {
   "cell_type": "code",
   "execution_count": 36,
   "id": "bbdb6fac",
   "metadata": {},
   "outputs": [
    {
     "name": "stderr",
     "output_type": "stream",
     "text": [
      "C:\\Users\\Lex\\AppData\\Local\\Temp\\ipykernel_17056\\3672893543.py:1: FutureWarning: A value is trying to be set on a copy of a DataFrame or Series through chained assignment using an inplace method.\n",
      "The behavior will change in pandas 3.0. This inplace method will never work because the intermediate object on which we are setting values always behaves as a copy.\n",
      "\n",
      "For example, when doing 'df[col].method(value, inplace=True)', try using 'df.method({col: value}, inplace=True)' or df[col] = df[col].method(value) instead, to perform the operation inplace on the original object.\n",
      "\n",
      "\n",
      "  X['serum_cholesterol'].fillna(X['serum_cholesterol'].median(), inplace=True)\n",
      "C:\\Users\\Lex\\AppData\\Local\\Temp\\ipykernel_17056\\3672893543.py:1: SettingWithCopyWarning: \n",
      "A value is trying to be set on a copy of a slice from a DataFrame\n",
      "\n",
      "See the caveats in the documentation: https://pandas.pydata.org/pandas-docs/stable/user_guide/indexing.html#returning-a-view-versus-a-copy\n",
      "  X['serum_cholesterol'].fillna(X['serum_cholesterol'].median(), inplace=True)\n",
      "C:\\Users\\Lex\\AppData\\Local\\Temp\\ipykernel_17056\\3672893543.py:2: FutureWarning: A value is trying to be set on a copy of a DataFrame or Series through chained assignment using an inplace method.\n",
      "The behavior will change in pandas 3.0. This inplace method will never work because the intermediate object on which we are setting values always behaves as a copy.\n",
      "\n",
      "For example, when doing 'df[col].method(value, inplace=True)', try using 'df.method({col: value}, inplace=True)' or df[col] = df[col].method(value) instead, to perform the operation inplace on the original object.\n",
      "\n",
      "\n",
      "  X['alkaline_phosphatase'].fillna(X['alkaline_phosphatase'].median(), inplace=True)\n",
      "C:\\Users\\Lex\\AppData\\Local\\Temp\\ipykernel_17056\\3672893543.py:2: SettingWithCopyWarning: \n",
      "A value is trying to be set on a copy of a slice from a DataFrame\n",
      "\n",
      "See the caveats in the documentation: https://pandas.pydata.org/pandas-docs/stable/user_guide/indexing.html#returning-a-view-versus-a-copy\n",
      "  X['alkaline_phosphatase'].fillna(X['alkaline_phosphatase'].median(), inplace=True)\n",
      "C:\\Users\\Lex\\AppData\\Local\\Temp\\ipykernel_17056\\3672893543.py:3: FutureWarning: A value is trying to be set on a copy of a DataFrame or Series through chained assignment using an inplace method.\n",
      "The behavior will change in pandas 3.0. This inplace method will never work because the intermediate object on which we are setting values always behaves as a copy.\n",
      "\n",
      "For example, when doing 'df[col].method(value, inplace=True)', try using 'df.method({col: value}, inplace=True)' or df[col] = df[col].method(value) instead, to perform the operation inplace on the original object.\n",
      "\n",
      "\n",
      "  X['platelets'].fillna(X['platelets'].median(), inplace=True)\n",
      "C:\\Users\\Lex\\AppData\\Local\\Temp\\ipykernel_17056\\3672893543.py:3: SettingWithCopyWarning: \n",
      "A value is trying to be set on a copy of a slice from a DataFrame\n",
      "\n",
      "See the caveats in the documentation: https://pandas.pydata.org/pandas-docs/stable/user_guide/indexing.html#returning-a-view-versus-a-copy\n",
      "  X['platelets'].fillna(X['platelets'].median(), inplace=True)\n",
      "C:\\Users\\Lex\\AppData\\Local\\Temp\\ipykernel_17056\\3672893543.py:5: SettingWithCopyWarning: \n",
      "A value is trying to be set on a copy of a slice from a DataFrame.\n",
      "Try using .loc[row_indexer,col_indexer] = value instead\n",
      "\n",
      "See the caveats in the documentation: https://pandas.pydata.org/pandas-docs/stable/user_guide/indexing.html#returning-a-view-versus-a-copy\n",
      "  X[\"presence_of_asictes\"] = X[\"presence_of_asictes\"].cat.add_categories([2])\n",
      "C:\\Users\\Lex\\AppData\\Local\\Temp\\ipykernel_17056\\3672893543.py:6: FutureWarning: Downcasting behavior in `replace` is deprecated and will be removed in a future version. To retain the old behavior, explicitly call `result.infer_objects(copy=False)`. To opt-in to the future behavior, set `pd.set_option('future.no_silent_downcasting', True)`\n",
      "  X['presence_of_asictes'] = X['presence_of_asictes'].replace({'no': 0, 'yes': 1})\n",
      "C:\\Users\\Lex\\AppData\\Local\\Temp\\ipykernel_17056\\3672893543.py:6: FutureWarning: The behavior of Series.replace (and DataFrame.replace) with CategoricalDtype is deprecated. In a future version, replace will only be used for cases that preserve the categories. To change the categories, use ser.cat.rename_categories instead.\n",
      "  X['presence_of_asictes'] = X['presence_of_asictes'].replace({'no': 0, 'yes': 1})\n",
      "C:\\Users\\Lex\\AppData\\Local\\Temp\\ipykernel_17056\\3672893543.py:6: SettingWithCopyWarning: \n",
      "A value is trying to be set on a copy of a slice from a DataFrame.\n",
      "Try using .loc[row_indexer,col_indexer] = value instead\n",
      "\n",
      "See the caveats in the documentation: https://pandas.pydata.org/pandas-docs/stable/user_guide/indexing.html#returning-a-view-versus-a-copy\n",
      "  X['presence_of_asictes'] = X['presence_of_asictes'].replace({'no': 0, 'yes': 1})\n",
      "C:\\Users\\Lex\\AppData\\Local\\Temp\\ipykernel_17056\\3672893543.py:7: SettingWithCopyWarning: \n",
      "A value is trying to be set on a copy of a slice from a DataFrame.\n",
      "Try using .loc[row_indexer,col_indexer] = value instead\n",
      "\n",
      "See the caveats in the documentation: https://pandas.pydata.org/pandas-docs/stable/user_guide/indexing.html#returning-a-view-versus-a-copy\n",
      "  X[\"presence_of_hepatomegaly\"] = X[\"presence_of_hepatomegaly\"].cat.add_categories([2])\n",
      "C:\\Users\\Lex\\AppData\\Local\\Temp\\ipykernel_17056\\3672893543.py:8: SettingWithCopyWarning: \n",
      "A value is trying to be set on a copy of a slice from a DataFrame.\n",
      "Try using .loc[row_indexer,col_indexer] = value instead\n",
      "\n",
      "See the caveats in the documentation: https://pandas.pydata.org/pandas-docs/stable/user_guide/indexing.html#returning-a-view-versus-a-copy\n",
      "  X[\"presence_of_spiders\"] = X[\"presence_of_spiders\"].cat.add_categories([2])\n",
      "C:\\Users\\Lex\\AppData\\Local\\Temp\\ipykernel_17056\\3672893543.py:9: FutureWarning: A value is trying to be set on a copy of a DataFrame or Series through chained assignment using an inplace method.\n",
      "The behavior will change in pandas 3.0. This inplace method will never work because the intermediate object on which we are setting values always behaves as a copy.\n",
      "\n",
      "For example, when doing 'df[col].method(value, inplace=True)', try using 'df.method({col: value}, inplace=True)' or df[col] = df[col].method(value) instead, to perform the operation inplace on the original object.\n",
      "\n",
      "\n",
      "  X['presence_of_spiders'].fillna(2, inplace = True)\n",
      "C:\\Users\\Lex\\AppData\\Local\\Temp\\ipykernel_17056\\3672893543.py:9: SettingWithCopyWarning: \n",
      "A value is trying to be set on a copy of a slice from a DataFrame\n",
      "\n",
      "See the caveats in the documentation: https://pandas.pydata.org/pandas-docs/stable/user_guide/indexing.html#returning-a-view-versus-a-copy\n",
      "  X['presence_of_spiders'].fillna(2, inplace = True)\n",
      "C:\\Users\\Lex\\AppData\\Local\\Temp\\ipykernel_17056\\3672893543.py:10: SettingWithCopyWarning: \n",
      "A value is trying to be set on a copy of a slice from a DataFrame.\n",
      "Try using .loc[row_indexer,col_indexer] = value instead\n",
      "\n",
      "See the caveats in the documentation: https://pandas.pydata.org/pandas-docs/stable/user_guide/indexing.html#returning-a-view-versus-a-copy\n",
      "  X['presence_of_spiders'] = X['presence_of_spiders'].astype(int)\n",
      "C:\\Users\\Lex\\AppData\\Local\\Temp\\ipykernel_17056\\3672893543.py:11: FutureWarning: A value is trying to be set on a copy of a DataFrame or Series through chained assignment using an inplace method.\n",
      "The behavior will change in pandas 3.0. This inplace method will never work because the intermediate object on which we are setting values always behaves as a copy.\n",
      "\n",
      "For example, when doing 'df[col].method(value, inplace=True)', try using 'df.method({col: value}, inplace=True)' or df[col] = df[col].method(value) instead, to perform the operation inplace on the original object.\n",
      "\n",
      "\n",
      "  X['presence_of_asictes'].fillna(2, inplace=True)\n",
      "C:\\Users\\Lex\\AppData\\Local\\Temp\\ipykernel_17056\\3672893543.py:11: SettingWithCopyWarning: \n",
      "A value is trying to be set on a copy of a slice from a DataFrame\n",
      "\n",
      "See the caveats in the documentation: https://pandas.pydata.org/pandas-docs/stable/user_guide/indexing.html#returning-a-view-versus-a-copy\n",
      "  X['presence_of_asictes'].fillna(2, inplace=True)\n",
      "C:\\Users\\Lex\\AppData\\Local\\Temp\\ipykernel_17056\\3672893543.py:12: FutureWarning: A value is trying to be set on a copy of a DataFrame or Series through chained assignment using an inplace method.\n",
      "The behavior will change in pandas 3.0. This inplace method will never work because the intermediate object on which we are setting values always behaves as a copy.\n",
      "\n",
      "For example, when doing 'df[col].method(value, inplace=True)', try using 'df.method({col: value}, inplace=True)' or df[col] = df[col].method(value) instead, to perform the operation inplace on the original object.\n",
      "\n",
      "\n",
      "  X['presence_of_hepatomegaly'].fillna(2, inplace=True)\n",
      "C:\\Users\\Lex\\AppData\\Local\\Temp\\ipykernel_17056\\3672893543.py:12: SettingWithCopyWarning: \n",
      "A value is trying to be set on a copy of a slice from a DataFrame\n",
      "\n",
      "See the caveats in the documentation: https://pandas.pydata.org/pandas-docs/stable/user_guide/indexing.html#returning-a-view-versus-a-copy\n",
      "  X['presence_of_hepatomegaly'].fillna(2, inplace=True)\n",
      "C:\\Users\\Lex\\AppData\\Local\\Temp\\ipykernel_17056\\3672893543.py:13: FutureWarning: Downcasting behavior in `replace` is deprecated and will be removed in a future version. To retain the old behavior, explicitly call `result.infer_objects(copy=False)`. To opt-in to the future behavior, set `pd.set_option('future.no_silent_downcasting', True)`\n",
      "  X['presence_of_hepatomegaly'] = X['presence_of_hepatomegaly'].replace({'no': 0, 'yes' : 1})\n",
      "C:\\Users\\Lex\\AppData\\Local\\Temp\\ipykernel_17056\\3672893543.py:13: FutureWarning: The behavior of Series.replace (and DataFrame.replace) with CategoricalDtype is deprecated. In a future version, replace will only be used for cases that preserve the categories. To change the categories, use ser.cat.rename_categories instead.\n",
      "  X['presence_of_hepatomegaly'] = X['presence_of_hepatomegaly'].replace({'no': 0, 'yes' : 1})\n",
      "C:\\Users\\Lex\\AppData\\Local\\Temp\\ipykernel_17056\\3672893543.py:13: SettingWithCopyWarning: \n",
      "A value is trying to be set on a copy of a slice from a DataFrame.\n",
      "Try using .loc[row_indexer,col_indexer] = value instead\n",
      "\n",
      "See the caveats in the documentation: https://pandas.pydata.org/pandas-docs/stable/user_guide/indexing.html#returning-a-view-versus-a-copy\n",
      "  X['presence_of_hepatomegaly'] = X['presence_of_hepatomegaly'].replace({'no': 0, 'yes' : 1})\n",
      "C:\\Users\\Lex\\AppData\\Local\\Temp\\ipykernel_17056\\3672893543.py:15: FutureWarning: A value is trying to be set on a copy of a DataFrame or Series through chained assignment using an inplace method.\n",
      "The behavior will change in pandas 3.0. This inplace method will never work because the intermediate object on which we are setting values always behaves as a copy.\n",
      "\n",
      "For example, when doing 'df[col].method(value, inplace=True)', try using 'df.method({col: value}, inplace=True)' or df[col] = df[col].method(value) instead, to perform the operation inplace on the original object.\n",
      "\n",
      "\n",
      "  X['presence_of_spiders'].fillna(2, inplace=True)\n",
      "C:\\Users\\Lex\\AppData\\Local\\Temp\\ipykernel_17056\\3672893543.py:15: SettingWithCopyWarning: \n",
      "A value is trying to be set on a copy of a slice from a DataFrame\n",
      "\n",
      "See the caveats in the documentation: https://pandas.pydata.org/pandas-docs/stable/user_guide/indexing.html#returning-a-view-versus-a-copy\n",
      "  X['presence_of_spiders'].fillna(2, inplace=True)\n",
      "C:\\Users\\Lex\\AppData\\Local\\Temp\\ipykernel_17056\\3672893543.py:16: SettingWithCopyWarning: \n",
      "A value is trying to be set on a copy of a slice from a DataFrame.\n",
      "Try using .loc[row_indexer,col_indexer] = value instead\n",
      "\n",
      "See the caveats in the documentation: https://pandas.pydata.org/pandas-docs/stable/user_guide/indexing.html#returning-a-view-versus-a-copy\n",
      "  X['drug'] = X['drug'].map({'D-penicillamine': 1, '0': 0})\n",
      "C:\\Users\\Lex\\AppData\\Local\\Temp\\ipykernel_17056\\3672893543.py:17: SettingWithCopyWarning: \n",
      "A value is trying to be set on a copy of a slice from a DataFrame.\n",
      "Try using .loc[row_indexer,col_indexer] = value instead\n",
      "\n",
      "See the caveats in the documentation: https://pandas.pydata.org/pandas-docs/stable/user_guide/indexing.html#returning-a-view-versus-a-copy\n",
      "  X['drug'] = X['drug'].astype(int)\n",
      "C:\\Users\\Lex\\AppData\\Local\\Temp\\ipykernel_17056\\3672893543.py:18: SettingWithCopyWarning: \n",
      "A value is trying to be set on a copy of a slice from a DataFrame.\n",
      "Try using .loc[row_indexer,col_indexer] = value instead\n",
      "\n",
      "See the caveats in the documentation: https://pandas.pydata.org/pandas-docs/stable/user_guide/indexing.html#returning-a-view-versus-a-copy\n",
      "  X['sex'] = X['sex'].map({'male' : 0, 'female': 1})\n",
      "C:\\Users\\Lex\\AppData\\Local\\Temp\\ipykernel_17056\\3672893543.py:19: SettingWithCopyWarning: \n",
      "A value is trying to be set on a copy of a slice from a DataFrame.\n",
      "Try using .loc[row_indexer,col_indexer] = value instead\n",
      "\n",
      "See the caveats in the documentation: https://pandas.pydata.org/pandas-docs/stable/user_guide/indexing.html#returning-a-view-versus-a-copy\n",
      "  X['sex'] = X['sex'].astype(int)\n",
      "C:\\Users\\Lex\\AppData\\Local\\Temp\\ipykernel_17056\\3672893543.py:20: FutureWarning: The behavior of Series.replace (and DataFrame.replace) with CategoricalDtype is deprecated. In a future version, replace will only be used for cases that preserve the categories. To change the categories, use ser.cat.rename_categories instead.\n",
      "  X['day'] = X['day'].replace({'no' : 0})\n",
      "C:\\Users\\Lex\\AppData\\Local\\Temp\\ipykernel_17056\\3672893543.py:20: SettingWithCopyWarning: \n",
      "A value is trying to be set on a copy of a slice from a DataFrame.\n",
      "Try using .loc[row_indexer,col_indexer] = value instead\n",
      "\n",
      "See the caveats in the documentation: https://pandas.pydata.org/pandas-docs/stable/user_guide/indexing.html#returning-a-view-versus-a-copy\n",
      "  X['day'] = X['day'].replace({'no' : 0})\n",
      "C:\\Users\\Lex\\AppData\\Local\\Temp\\ipykernel_17056\\3672893543.py:21: SettingWithCopyWarning: \n",
      "A value is trying to be set on a copy of a slice from a DataFrame.\n",
      "Try using .loc[row_indexer,col_indexer] = value instead\n",
      "\n",
      "See the caveats in the documentation: https://pandas.pydata.org/pandas-docs/stable/user_guide/indexing.html#returning-a-view-versus-a-copy\n",
      "  X['day'] = X['day'].astype(int)\n"
     ]
    }
   ],
   "source": [
    "X['serum_cholesterol'].fillna(X['serum_cholesterol'].median(), inplace=True)\n",
    "X['alkaline_phosphatase'].fillna(X['alkaline_phosphatase'].median(), inplace=True)\n",
    "X['platelets'].fillna(X['platelets'].median(), inplace=True)\n",
    "\n",
    "X[\"presence_of_asictes\"] = X[\"presence_of_asictes\"].cat.add_categories([2])\n",
    "X['presence_of_asictes'] = X['presence_of_asictes'].replace({'no': 0, 'yes': 1})\n",
    "X[\"presence_of_hepatomegaly\"] = X[\"presence_of_hepatomegaly\"].cat.add_categories([2])\n",
    "X[\"presence_of_spiders\"] = X[\"presence_of_spiders\"].cat.add_categories([2])\n",
    "X['presence_of_spiders'].fillna(2, inplace = True)\n",
    "X['presence_of_spiders'] = X['presence_of_spiders'].astype(int)\n",
    "X['presence_of_asictes'].fillna(2, inplace=True)\n",
    "X['presence_of_hepatomegaly'].fillna(2, inplace=True)\n",
    "X['presence_of_hepatomegaly'] = X['presence_of_hepatomegaly'].replace({'no': 0, 'yes' : 1})\n",
    "X['presence_of_hepatomegaly'].astype(int)\n",
    "X['presence_of_spiders'].fillna(2, inplace=True)\n",
    "X['drug'] = X['drug'].map({'D-penicillamine': 1, '0': 0})\n",
    "X['drug'] = X['drug'].astype(int)\n",
    "X['sex'] = X['sex'].map({'male' : 0, 'female': 1})\n",
    "X['sex'] = X['sex'].astype(int)\n",
    "X['day'] = X['day'].replace({'no' : 0})\n",
    "X['day'] = X['day'].astype(int)"
   ]
  },
  {
   "cell_type": "markdown",
   "id": "593b30d7",
   "metadata": {},
   "source": [
    "## Splitting the data\n",
    "\n",
    "To ensure an even split for the training and testing splits of the target classes, I use **StratifiedShuffleSplit**.\n",
    "\n",
    "It proved to be better than a traditional **train_test_split**, increasing accuracy by ≈1-2%, thanks to class balance and avoiding bias."
   ]
  },
  {
   "cell_type": "code",
   "execution_count": 44,
   "id": "538a5d9c",
   "metadata": {},
   "outputs": [],
   "source": [
    "split = StratifiedShuffleSplit(n_splits=1, test_size=0.2)\n",
    "\n",
    "for train_ind, test_ind in split.split(X, y):\n",
    "    X_train, X_test = X.iloc[train_ind], X.iloc[test_ind]\n",
    "    y_train, y_test = y.iloc[train_ind], y.iloc[test_ind]"
   ]
  },
  {
   "cell_type": "markdown",
   "id": "bd76c350",
   "metadata": {},
   "source": [
    "## Pipeline + GridSearch\n",
    "\n",
    "For the sake of scalability and code clarity, I used a **Pipeline** that combines preprocessing (**StandardScaler**) with the model (**KNeighborsClassifier**).\n",
    "\n",
    "This approach makes the workflow more readbale, maintainable and easier to extend (e.g., replacing the classifier later or adding more preprocessing steps).\n",
    "\n",
    "The use of **StandardScaler** is motivated by the way this model classifies: it makes decisions based on distances. Without scaling, features with larger ranges would dominate those with smaller ones, reducing or even eliminating their importance. **StandardScaler** ensures all features are brought to a comparable scale.\n",
    "\n",
    "Finally, using **GridSearchCV** helps in finding the best **hyperparameters** for the model I am using testing its accuracy on all the provided parameters, in this instance it compares 30 posible combinations (5 x 2 x 3).\n"
   ]
  },
  {
   "cell_type": "code",
   "execution_count": 55,
   "id": "2f26f908",
   "metadata": {},
   "outputs": [],
   "source": [
    "pipeline = Pipeline([\n",
    "    ('scaler', StandardScaler()),\n",
    "    ('knn', KNeighborsClassifier())\n",
    "])\n",
    "\n",
    "grid_param = {\n",
    "    'knn__n_neighbors': [1, 3, 5, 7, 9],\n",
    "    'knn__weights' : ['distance', 'uniform'],\n",
    "    'knn__metric': ['euclidean', 'manhattan', 'minkowski']\n",
    "}"
   ]
  },
  {
   "cell_type": "markdown",
   "id": "c9dbd26b",
   "metadata": {},
   "source": [
    "## Results\n",
    "\n",
    "Using **GridSearch** i ran a **5-fold cross-validation**, taking the training set and dividing it in 5 folds, and at each iteration, using 4 folds for training and 1 fold for validation, then repeating this procces 5 times, each time using a different fold for validation, then taking the mean of all 5 rounds\n",
    "\n",
    "After running all the combinations, the model achieved a score of ≈0.93, using the **manhattan** distance metric, 1 **neighbour**, and the **distance** weighting"
   ]
  },
  {
   "cell_type": "code",
   "execution_count": 59,
   "id": "72dc5846",
   "metadata": {},
   "outputs": [
    {
     "data": {
      "text/plain": [
       "(0.9305912596401028,\n",
       " {'knn__metric': 'manhattan',\n",
       "  'knn__n_neighbors': 1,\n",
       "  'knn__weights': 'distance'})"
      ]
     },
     "execution_count": 59,
     "metadata": {},
     "output_type": "execute_result"
    }
   ],
   "source": [
    "grid = GridSearchCV(pipeline, grid_param, scoring='accuracy', error_score='raise')\n",
    "grid.fit(X_train, y_train)\n",
    "\n",
    "grid.score(X_test, y_test), grid.best_params_"
   ]
  },
  {
   "cell_type": "markdown",
   "id": "a36a3804",
   "metadata": {},
   "source": [
    "## Conclusion\n",
    "\n",
    "-Proper handling of missing values and categorical encoding is crucial for real-world datasets  \n",
    "-Feature scaling is essential for distance-based models like KNN  \n",
    "-Cross-validation provides a robust estimate of model performance  \n",
    "-Finding the best hyperparameters and tuning is very important, boosting this models performance by ≈8-10%"
   ]
  }
 ],
 "metadata": {
  "kernelspec": {
   "display_name": "Python 3",
   "language": "python",
   "name": "python3"
  },
  "language_info": {
   "codemirror_mode": {
    "name": "ipython",
    "version": 3
   },
   "file_extension": ".py",
   "mimetype": "text/x-python",
   "name": "python",
   "nbconvert_exporter": "python",
   "pygments_lexer": "ipython3",
   "version": "3.13.7"
  }
 },
 "nbformat": 4,
 "nbformat_minor": 5
}
